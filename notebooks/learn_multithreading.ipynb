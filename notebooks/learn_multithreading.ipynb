{
 "cells": [
  {
   "cell_type": "markdown",
   "id": "26c69f6c-532a-4f7a-a3a4-71e1237dbb6f",
   "metadata": {},
   "source": [
    "# Python Multithreading Crashcourse\n",
    "\n",
    "Ref: Learn Python MULTITHREADING in 8 minutes! 🧵\n",
    "https://www.youtube.com/watch?v=STEOavXqXkQ"
   ]
  },
  {
   "cell_type": "code",
   "execution_count": null,
   "id": "d24dd8d0-e67f-42ec-835b-0339feb6a6a5",
   "metadata": {},
   "outputs": [],
   "source": [
    "import threading\n",
    "import time\n",
    "\n",
    "def walk_dog(name, place):\n",
    "    time.sleep(8)\n",
    "    print(f'You walked {name} {place}.')\n",
    "\n",
    "def take_out_trash():\n",
    "    time.sleep(2)\n",
    "    print('You took out the trash.')\n",
    "\n",
    "def get_mail():\n",
    "    time.sleep(4)\n",
    "    print('You got the mail.')"
   ]
  },
  {
   "cell_type": "code",
   "execution_count": null,
   "id": "f800ac2b-6432-42bd-99bb-64ddfcf01a35",
   "metadata": {},
   "outputs": [],
   "source": [
    "\n",
    "walk_dog()\n",
    "take_out_trash()\n",
    "get_mail()"
   ]
  },
  {
   "cell_type": "code",
   "execution_count": null,
   "id": "3e47ad69-fc8c-4a71-92be-9c91e3bbc7f0",
   "metadata": {},
   "outputs": [],
   "source": [
    "chore1 = threading.Thread(target=walk_dog, args=('Jax', 'the awesome one'))\n",
    "chore2 = threading.Thread(target=take_out_trash)\n",
    "chore3 = threading.Thread(target=get_mail)\n",
    "chores = [chore1, chore2, chore3]\n",
    "for chore in chores:\n",
    "    chore.start()\n",
    "\n",
    "for chore in chores:\n",
    "    chore.join()\n",
    "    \n",
    "print('All chores are complete!')"
   ]
  }
 ],
 "metadata": {
  "kernelspec": {
   "display_name": "Python 3 (ipykernel)",
   "language": "python",
   "name": "python3"
  },
  "language_info": {
   "codemirror_mode": {
    "name": "ipython",
    "version": 3
   },
   "file_extension": ".py",
   "mimetype": "text/x-python",
   "name": "python",
   "nbconvert_exporter": "python",
   "pygments_lexer": "ipython3",
   "version": "3.12.5"
  }
 },
 "nbformat": 4,
 "nbformat_minor": 5
}
