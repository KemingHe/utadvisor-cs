{
 "cells": [
  {
   "cell_type": "code",
   "execution_count": null,
   "id": "43ecada7-6eaf-481a-ac42-74b8b9ddef12",
   "metadata": {},
   "outputs": [],
   "source": [
    "'''\n",
    "Given a domain, i.e.cse.osu.edu, scrape and generate a site.json\n",
    "containing all text content of all pages available through \n",
    "domain/sitemap.xml.\n",
    "\n",
    "1. Get list of sites (and metadata) from sitemap.\n",
    "2. Interate through sites, scrape text content.\n",
    "3. Store text content, scrape_timestamp \n",
    "together with site metadata to output list of site objects.\n",
    "'''"
   ]
  },
  {
   "cell_type": "code",
   "execution_count": null,
   "id": "61ae039b-f604-4d21-8c05-c7cfe640e40f",
   "metadata": {},
   "outputs": [],
   "source": [
    "# Env imports.\n",
    "from os import getenv\n",
    "from dotenv import load_dotenv"
   ]
  },
  {
   "cell_type": "code",
   "execution_count": null,
   "id": "87a32f1c-111b-46a1-b00c-d08e2c319d40",
   "metadata": {},
   "outputs": [],
   "source": [
    "# Retrieve the API keys from environment variables\n",
    "load_dotenv()\n",
    "scraperapi_api_key: str = getenv('SCRAPERAPI_API_KEY')"
   ]
  },
  {
   "cell_type": "code",
   "execution_count": null,
   "id": "41dc6990-419d-4179-83b1-be28931e7b96",
   "metadata": {},
   "outputs": [],
   "source": [
    "from pprint import pprint\n",
    "from scraperapi_sdk import ScraperAPIClient\n",
    "\n",
    "client = ScraperAPIClient(scraperapi_api_key)"
   ]
  },
  {
   "cell_type": "code",
   "execution_count": null,
   "id": "6e976e36-8767-4d25-94dd-012221a67420",
   "metadata": {},
   "outputs": [],
   "source": [
    "from datetime import datetime\n",
    "from lxml import etree\n",
    "\n",
    "SITEMAP_NAMESPACE = {'s': 'http://www.sitemaps.org/schemas/sitemap/0.9'}\n",
    "\n",
    "def get_sitemap_data(domain: str) -> list[dict]:\n",
    "    raw_sitemap = client.get(f'https://{domain}/sitemap.xml')\n",
    "    root = etree.fromstring(raw_sitemap)\n",
    "    sitemap_data = []\n",
    "\n",
    "    for url in root.findall('.//s:url', SITEMAP_NAMESPACE):\n",
    "        url_data = {\n",
    "            'loc': url.find('s:loc', SITEMAP_NAMESPACE).text if url.find('s:loc', SITEMAP_NAMESPACE) is not None else None,\n",
    "            'lastmod': url.find('s:lastmod', SITEMAP_NAMESPACE).text if url.find('s:lastmod', SITEMAP_NAMESPACE) is not None else None,\n",
    "            'priority': url.find('s:priority', SITEMAP_NAMESPACE).text if url.find('s:priority', SITEMAP_NAMESPACE) is not None else None\n",
    "        }\n",
    "        sitemap_data.append(url_data)\n",
    "    \n",
    "    return sitemap_data\n",
    "\n",
    "pprint(get_sitemap_data('cse.osu.edu'))"
   ]
  },
  {
   "cell_type": "code",
   "execution_count": null,
   "id": "33b9df8d-a435-4a04-96ad-688926e66333",
   "metadata": {},
   "outputs": [],
   "source": [
    "from bs4 import BeautifulSoup\n",
    "\n",
    "def get_text_content(url: str) -> str:\n",
    "    raw_html = client.get(url)\n",
    "    soup = BeautifulSoup(raw_html, 'html.parser')\n",
    "\n",
    "    # Parse the response with BeautifulSoup and extract all text content,\n",
    "    # excluding <header> and <footer> tags if present.\n",
    "    if soup.header:\n",
    "        soup.header.decompose()\n",
    "    if soup.footer:\n",
    "        soup.footer.decompose()\n",
    "    text_content = soup.get_text()\n",
    "    cleaned_text = ' '.join(text_content.split())\n",
    "    return cleaned_text\n",
    "\n",
    "pprint(get_text_content('http://cse.osu.edu/events/guest-speaker-deepayan-chakrabarti'))"
   ]
  },
  {
   "cell_type": "code",
   "execution_count": null,
   "id": "c0299360-4680-48d8-8b21-dd2ce5485f8e",
   "metadata": {},
   "outputs": [],
   "source": [
    "def scrape_domain(sitemap_data):\n",
    "    domain_data = []\n",
    "    for data in sitemap_data:\n",
    "        site_data = {\n",
    "            **data,\n",
    "            'text_content': get_text_content(data['loc']),\n",
    "            'scrape_timestimp': datetime.now().isoformat()\n",
    "        }\n",
    "        domain_data.append(site_data)\n",
    "    return domain_data\n",
    "\n",
    "domain = 'cse.osu.edu'\n",
    "sitemap_data = get_sitemap_data(domain)\n",
    "domain_data = scrape_domain(sitemap_data)\n",
    "pprint(domain_data)"
   ]
  },
  {
   "cell_type": "code",
   "execution_count": null,
   "id": "8c737068-c35a-46e1-a8b3-a07aced2f253",
   "metadata": {},
   "outputs": [],
   "source": [
    "import pandas as pd\n",
    "import plotly.express as px\n",
    "from plotly.offline import init_notebook_mode\n",
    "init_notebook_mode(connected=True)"
   ]
  },
  {
   "cell_type": "code",
   "execution_count": null,
   "id": "556bde1b-f83e-4263-b462-480c3f403350",
   "metadata": {},
   "outputs": [],
   "source": [
    "df = pd.DataFrame(domain_data)\n",
    "df['text_length'] = df['text_content'].apply(len)"
   ]
  },
  {
   "cell_type": "code",
   "execution_count": null,
   "id": "e9c2f608-c59e-4008-8fa7-77abb2186a50",
   "metadata": {},
   "outputs": [],
   "source": [
    "df"
   ]
  },
  {
   "cell_type": "code",
   "execution_count": null,
   "id": "85247995-bec2-41e5-8ec1-f4e51b88d425",
   "metadata": {},
   "outputs": [],
   "source": [
    "fig = px.bar(\n",
    "    df, \n",
    "    y='loc', \n",
    "    x='text_length', \n",
    "    title='Text Content Len per Page',\n",
    "    labels={\n",
    "        'loc': 'Page',\n",
    "        'text_length': 'Text Len (chars)'\n",
    "    }\n",
    ")\n",
    "\n",
    "fig.show(renderer=\"iframe\")"
   ]
  },
  {
   "cell_type": "code",
   "execution_count": null,
   "id": "b53e7300-e169-4bfd-b16a-0414e241b150",
   "metadata": {},
   "outputs": [],
   "source": [
    "fig = px.histogram(\n",
    "    df, \n",
    "    x='text_length', \n",
    "    title='Distribution of Text Content Length',\n",
    "    labels={'text_length': 'Text Length (chars)'},\n",
    "    nbins=5000  # Adjust number of bins as needed\n",
    ")\n",
    "\n",
    "fig.show(renderer=\"iframe\")"
   ]
  },
  {
   "cell_type": "code",
   "execution_count": null,
   "id": "83ee6e54-471a-4e55-8ed6-6984187df56d",
   "metadata": {},
   "outputs": [],
   "source": [
    "import json\n",
    "with open('domain_data.json', 'w') as f:\n",
    "    json.dump(domain_data, f, indent=2)"
   ]
  },
  {
   "cell_type": "code",
   "execution_count": null,
   "id": "1c864fa4-091d-416b-b4c9-d19f692a01f0",
   "metadata": {},
   "outputs": [],
   "source": [
    "pprint(len(domain_data))"
   ]
  },
  {
   "cell_type": "code",
   "execution_count": null,
   "id": "aadfb195-1919-4fd8-a77e-41f1bfe6c52f",
   "metadata": {},
   "outputs": [],
   "source": []
  }
 ],
 "metadata": {
  "kernelspec": {
   "display_name": "Python 3 (ipykernel)",
   "language": "python",
   "name": "python3"
  },
  "language_info": {
   "codemirror_mode": {
    "name": "ipython",
    "version": 3
   },
   "file_extension": ".py",
   "mimetype": "text/x-python",
   "name": "python",
   "nbconvert_exporter": "python",
   "pygments_lexer": "ipython3",
   "version": "3.12.5"
  }
 },
 "nbformat": 4,
 "nbformat_minor": 5
}
