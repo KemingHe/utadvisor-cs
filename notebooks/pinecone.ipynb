{
 "cells": [
  {
   "cell_type": "code",
   "execution_count": null,
   "id": "d0876508-ccc4-4864-876e-aef66255f9ea",
   "metadata": {},
   "outputs": [],
   "source": [
    "# Env imports.\n",
    "from os import getenv\n",
    "from dotenv import load_dotenv\n",
    "\n",
    "# Retrieve the API keys from environment variables\n",
    "load_dotenv()\n",
    "openai_api_key: str = getenv('OPENAI_API_KEY')\n",
    "pinecone_api_key: str = getenv('PINECONE_API_KEY')\n",
    "pinecone_index_name: str = getenv('PINECONE_INDEX_NAME')"
   ]
  },
  {
   "cell_type": "code",
   "execution_count": null,
   "id": "d121c896-41bf-470f-9422-3248dffa3c60",
   "metadata": {
    "scrolled": true
   },
   "outputs": [],
   "source": [
    "import json\n",
    "\n",
    "# Load the existing scraped data for cse.osu.edu as a json.\n",
    "with open('cse_osu_edu_domain_data.json', 'r') as f:\n",
    "    domain_data = json.load(f)\n",
    "\n",
    "print(len(domain_data))"
   ]
  },
  {
   "cell_type": "code",
   "execution_count": null,
   "id": "9ce5cb70-6d34-439b-a5e3-3b7181afa477",
   "metadata": {},
   "outputs": [],
   "source": [
    "from pprint import pprint\n",
    "\n",
    "pprint(domain_data[0])"
   ]
  },
  {
   "cell_type": "code",
   "execution_count": null,
   "id": "f8782c18-8bad-4e88-a395-89cec046f3b3",
   "metadata": {},
   "outputs": [],
   "source": [
    "from langchain_pinecone import PineconeVectorStore\n",
    "from langchain_openai import OpenAIEmbeddings\n",
    "from pinecone import Pinecone\n",
    "\n",
    "# Init the Pinecone vectorstore object.\n",
    "embeddings = OpenAIEmbeddings(api_key=openai_api_key)\n",
    "pc = Pinecone(api_key=pinecone_api_key)\n",
    "index = pc.Index(pinecone_index_name)\n",
    "\n",
    "vector_store = PineconeVectorStore(index=index, embedding=embeddings)"
   ]
  },
  {
   "cell_type": "code",
   "execution_count": null,
   "id": "432eb44a-7a4b-4cf2-844e-47f28cdefc1d",
   "metadata": {},
   "outputs": [],
   "source": [
    "from langchain_text_splitters import RecursiveCharacterTextSplitter\n",
    "\n",
    "text_splitter = RecursiveCharacterTextSplitter.from_tiktoken_encoder(\n",
    "    model_name=\"gpt-4\",\n",
    "    chunk_size=300,\n",
    "    chunk_overlap=50\n",
    ")"
   ]
  },
  {
   "cell_type": "code",
   "execution_count": null,
   "id": "efe24bcd-c9b3-4b20-83bb-f592bb75ad28",
   "metadata": {},
   "outputs": [],
   "source": [
    "# test_texts = text_splitter.split_text(domain_data[0]['text_content'])"
   ]
  },
  {
   "cell_type": "code",
   "execution_count": null,
   "id": "ae5d4ef9-c139-4e9f-94ca-773396c79467",
   "metadata": {},
   "outputs": [],
   "source": [
    "from typing import List, Dict\n",
    "from langchain_core.documents import Document\n",
    "from uuid import uuid4\n",
    "from datetime import datetime\n",
    "\n",
    "class EmptySplitTextException(Exception):\n",
    "    '''No text returned by the text splitter.'''\n",
    "    pass\n",
    "\n",
    "def datapoint_to_documents(text_splitter: RecursiveCharacterTextSplitter, datapoint: Dict[str, str]) -> List[Document]:\n",
    "    documents: List[Document] = []\n",
    "    texts: List[str] = text_splitter.split_text(datapoint['text_content'])\n",
    "    if not texts:\n",
    "        raise EmptySplitTextException\n",
    "        \n",
    "    document_type: str = 'split' if len(texts) > 1 else 'whole'\n",
    "    lastmod_timestamp: str = datapoint['lastmod_timestamp']\n",
    "    lastmod_year: int = datetime.fromisoformat(lastmod_timestamp.rstrip('Z')).year\n",
    "    for text in texts:\n",
    "        new_document = Document(\n",
    "            id = uuid4(),\n",
    "            page_content = text,\n",
    "            metadata = {\n",
    "                'src': datapoint['src'],\n",
    "                'url': datapoint['url'],\n",
    "                'type': document_type,\n",
    "                'lastmod_year': lastmod_year,\n",
    "                'lastmod_timestamp': lastmod_timestamp,\n",
    "                'scrape_timestamp': datapoint['scrape_timestamp']\n",
    "            }\n",
    "        )\n",
    "        documents.append(new_document)\n",
    "                \n",
    "    return documents\n",
    "\n",
    "def domain_data_to_documents(text_splitter: RecursiveCharacterTextSplitter, domain_data: List[Dict[str, str]]) -> List[Document]:\n",
    "    documents: List[Document] = []\n",
    "    for datapoint in domain_data:\n",
    "        processed_documents: List[Document] = datapoint_to_documents(text_splitter, datapoint)\n",
    "        documents.extend(processed_documents)\n",
    "    return documents"
   ]
  },
  {
   "cell_type": "code",
   "execution_count": null,
   "id": "47fe44ba-bb61-42d2-bffb-c380907d7d3c",
   "metadata": {
    "scrolled": true
   },
   "outputs": [],
   "source": [
    "documents: List[Document] = domain_data_to_documents(text_splitter, domain_data)"
   ]
  },
  {
   "cell_type": "code",
   "execution_count": null,
   "id": "999ae106-051b-4a61-baf6-cad8ce0a0dfe",
   "metadata": {},
   "outputs": [],
   "source": [
    "pprint(documents[:3])"
   ]
  },
  {
   "cell_type": "code",
   "execution_count": null,
   "id": "600e4d1b-5669-4298-a97a-467313dbb40c",
   "metadata": {},
   "outputs": [],
   "source": [
    "vector_store.delete(delete_all=True)\n",
    "vector_store.add_documents(documents)"
   ]
  },
  {
   "cell_type": "code",
   "execution_count": null,
   "id": "b5702a4f-059a-4938-bc7d-d0752254f7bb",
   "metadata": {},
   "outputs": [],
   "source": [
    "# Test index by similarity search and retrieve top k matching documents.\n",
    "current_year = datetime.now().year\n",
    "results = vector_store.similarity_search(\n",
    "    'Professor computer vision research looking for grad student',\n",
    "    k=3,\n",
    "    filter={\n",
    "        'lastmod_year': {'$gte': current_year - 1}\n",
    "    },\n",
    ")\n",
    "for res in results:\n",
    "    print(f'* {res.page_content} [{res.metadata}]\\n')"
   ]
  },
  {
   "cell_type": "code",
   "execution_count": null,
   "id": "d7a758df-b8f5-4c57-986a-eaf8c11b7599",
   "metadata": {},
   "outputs": [],
   "source": []
  }
 ],
 "metadata": {
  "kernelspec": {
   "display_name": "Python 3 (ipykernel)",
   "language": "python",
   "name": "python3"
  },
  "language_info": {
   "codemirror_mode": {
    "name": "ipython",
    "version": 3
   },
   "file_extension": ".py",
   "mimetype": "text/x-python",
   "name": "python",
   "nbconvert_exporter": "python",
   "pygments_lexer": "ipython3",
   "version": "3.12.5"
  }
 },
 "nbformat": 4,
 "nbformat_minor": 5
}
