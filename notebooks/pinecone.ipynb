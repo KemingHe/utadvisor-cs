{
 "cells": [
  {
   "cell_type": "code",
   "execution_count": null,
   "id": "9cb14fd5-23ce-4ea7-8f37-6099a7b0212d",
   "metadata": {},
   "outputs": [],
   "source": [
    "# Env imports.\n",
    "from os import getenv\n",
    "from dotenv import load_dotenv"
   ]
  },
  {
   "cell_type": "code",
   "execution_count": null,
   "id": "cd4e0439-6954-4f10-ae15-60e6a19982e6",
   "metadata": {},
   "outputs": [],
   "source": [
    "# Retrieve the API keys from environment variables\n",
    "load_dotenv()\n",
    "openai_api_key: str = getenv('OPENAI_API_KEY')\n",
    "pinecone_api_key: str = getenv('PINECONE_API_KEY')\n",
    "pinecone_index_name: str = getenv('PINECONE_INDEX_NAME')\n",
    "print(f'openai_api_key = {openai_api_key}')\n",
    "print(f'pinecone_api_key = {pinecone_api_key}')\n",
    "print(f'pinecone_index_name = {pinecone_index_name}')"
   ]
  },
  {
   "cell_type": "code",
   "execution_count": null,
   "id": "5d418477-05a1-4910-97e2-70102c6eda05",
   "metadata": {},
   "outputs": [],
   "source": [
    "import json"
   ]
  },
  {
   "cell_type": "code",
   "execution_count": null,
   "id": "ac78c358-898f-4b72-966c-0121662e56a9",
   "metadata": {},
   "outputs": [],
   "source": [
    "# Load the existing scraped data for cse.osu.edu as a json.\n",
    "with open('domain_data.json', 'r') as f:\n",
    "    domain_data = json.load(f)"
   ]
  },
  {
   "cell_type": "code",
   "execution_count": null,
   "id": "81feffb3-e175-4aac-a9b7-860632a21007",
   "metadata": {
    "scrolled": true
   },
   "outputs": [],
   "source": [
    "domain_data"
   ]
  },
  {
   "cell_type": "code",
   "execution_count": null,
   "id": "aeefc734-794b-4456-a9e9-a7566a47a4be",
   "metadata": {},
   "outputs": [],
   "source": [
    "from langchain_pinecone import PineconeVectorStore\n",
    "from langchain_openai import OpenAIEmbeddings\n",
    "from pinecone import Pinecone"
   ]
  },
  {
   "cell_type": "code",
   "execution_count": null,
   "id": "e12ea844-2728-483f-aab9-1a0779298798",
   "metadata": {},
   "outputs": [],
   "source": [
    "# Init the Pinecone vectorstore object.\n",
    "embeddings = OpenAIEmbeddings(api_key=openai_api_key)\n",
    "pc = Pinecone(api_key=pinecone_api_key)\n",
    "index = pc.Index(pinecone_index_name)\n",
    "\n",
    "vector_store = PineconeVectorStore(index=index, embedding=embeddings)"
   ]
  },
  {
   "cell_type": "code",
   "execution_count": null,
   "id": "1729c595-dad9-4d82-9d9e-ded9a4f768ff",
   "metadata": {},
   "outputs": [],
   "source": [
    "from langchain_core.documents import Document\n",
    "from hashlib import sha256"
   ]
  },
  {
   "cell_type": "code",
   "execution_count": null,
   "id": "8a077afc-5c27-440d-958d-dd37ba875eb2",
   "metadata": {},
   "outputs": [],
   "source": [
    "# Prepare documents for embedding and upload.\n",
    "documents = []\n",
    "for datapoint in domain_data:\n",
    "    documents.append(\n",
    "        Document(\n",
    "            id=sha256(datapoint['loc'].encode('utf-8')).hexdigest(),\n",
    "            page_content=datapoint['text_content'],\n",
    "            metadata={\n",
    "                'scrape_timestamp': datapoint['scrape_timestimp'],\n",
    "                'lastmod_timestamp': datapoint['lastmod'],\n",
    "                'page_priority': datapoint['priority'],\n",
    "                'url': datapoint['loc']\n",
    "            }\n",
    "        )\n",
    "    )"
   ]
  },
  {
   "cell_type": "code",
   "execution_count": null,
   "id": "47fe44ba-bb61-42d2-bffb-c380907d7d3c",
   "metadata": {
    "scrolled": true
   },
   "outputs": [],
   "source": [
    "documents"
   ]
  },
  {
   "cell_type": "code",
   "execution_count": null,
   "id": "0bc0f3b4-b8b4-467c-8423-3bc193c3ffcf",
   "metadata": {},
   "outputs": [],
   "source": [
    "vector_store.add_documents(documents=documents)"
   ]
  },
  {
   "cell_type": "code",
   "execution_count": null,
   "id": "b5702a4f-059a-4938-bc7d-d0752254f7bb",
   "metadata": {},
   "outputs": [],
   "source": [
    "# Test index by similarity search and retrieve top 5 matching documents.\n",
    "results = vector_store.similarity_search(\n",
    "    'ai research',\n",
    "    k=5,\n",
    "    filter={},\n",
    ")\n",
    "for res in results:\n",
    "    print(f'* {res.page_content} [{res.metadata}]\\n')"
   ]
  },
  {
   "cell_type": "code",
   "execution_count": null,
   "id": "d7a758df-b8f5-4c57-986a-eaf8c11b7599",
   "metadata": {},
   "outputs": [],
   "source": []
  }
 ],
 "metadata": {
  "kernelspec": {
   "display_name": "Python 3 (ipykernel)",
   "language": "python",
   "name": "python3"
  },
  "language_info": {
   "codemirror_mode": {
    "name": "ipython",
    "version": 3
   },
   "file_extension": ".py",
   "mimetype": "text/x-python",
   "name": "python",
   "nbconvert_exporter": "python",
   "pygments_lexer": "ipython3",
   "version": "3.12.5"
  }
 },
 "nbformat": 4,
 "nbformat_minor": 5
}
